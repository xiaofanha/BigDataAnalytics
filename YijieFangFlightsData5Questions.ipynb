{
  "nbformat": 4,
  "nbformat_minor": 0,
  "metadata": {
    "colab": {
      "name": "YijieFangFlightsData5Questions.ipynb",
      "provenance": [],
      "authorship_tag": "ABX9TyNjuDE4h2O9QjSJM+eVKx4I",
      "include_colab_link": true
    },
    "kernelspec": {
      "name": "python3",
      "display_name": "Python 3"
    }
  },
  "cells": [
    {
      "cell_type": "markdown",
      "metadata": {
        "id": "view-in-github",
        "colab_type": "text"
      },
      "source": [
        "<a href=\"https://colab.research.google.com/github/xiaofanha/BigDataAnalytics/blob/master/YijieFangFlightsData5Questions.ipynb\" target=\"_parent\"><img src=\"https://colab.research.google.com/assets/colab-badge.svg\" alt=\"Open In Colab\"/></a>"
      ]
    },
    {
      "cell_type": "markdown",
      "metadata": {
        "id": "w7WLgLNoH4O8"
      },
      "source": [
        "YijieFang's\r\n",
        "Flights Data 5 Questions"
      ]
    },
    {
      "cell_type": "code",
      "metadata": {
        "colab": {
          "base_uri": "https://localhost:8080/"
        },
        "id": "_-Bs7Opq0-Rm",
        "outputId": "7889c60f-b6eb-4898-d958-d6466b0dc5a0"
      },
      "source": [
        "!pip install --ignore-installed -q pyspark==3.0.1"
      ],
      "execution_count": 1,
      "outputs": [
        {
          "output_type": "stream",
          "text": [
            "\u001b[K     |████████████████████████████████| 204.2MB 74kB/s \n",
            "\u001b[K     |████████████████████████████████| 204kB 21.7MB/s \n",
            "\u001b[?25h  Building wheel for pyspark (setup.py) ... \u001b[?25l\u001b[?25hdone\n"
          ],
          "name": "stdout"
        }
      ]
    },
    {
      "cell_type": "code",
      "metadata": {
        "id": "bEODx9sacDdd"
      },
      "source": [
        "import os\n",
        "# os.environ[\"JAVA_HOME\"] = \"/usr/lib/jvm/java-11-openjdk-amd64\"\n",
        "# os.environ[\"SPARK_HOME\"] = \"spark-3.0.1-bin-hadoop3.2\"\n",
        "\n",
        "# import findspark\n",
        "# findspark.init(\"spark-3.0.1-bin-hadoop3.2\")# SPARK_HOME\n",
        "\n",
        "\n",
        "import sys\n",
        "import requests\n",
        "from operator import add\n",
        "\n",
        "from pyspark import SparkConf,SparkContext\n",
        "from pyspark.streaming import StreamingContext\n",
        "\n",
        "from pyspark.sql import SparkSession\n",
        "from pyspark.sql import SQLContext\n",
        "\n",
        "from pyspark.sql.types import *\n",
        "from pyspark.sql import functions as func\n",
        "from pyspark.sql.functions import *\n",
        "\n",
        "spark = SparkSession.builder.master(\"local[*]\").getOrCreate()\n",
        "sc = SparkContext.getOrCreate()\n",
        "sqlContext = SQLContext(sc)"
      ],
      "execution_count": 2,
      "outputs": []
    },
    {
      "cell_type": "code",
      "metadata": {
        "id": "QuLTE3o_11C5"
      },
      "source": [
        "lines = sc.textFile(\"./flights.csv.bz2\")"
      ],
      "execution_count": 3,
      "outputs": []
    },
    {
      "cell_type": "code",
      "metadata": {
        "id": "F9ie9WdK2VLl"
      },
      "source": [
        "# Removing the Header Line from CSV file \r\n",
        "linesHeader = lines.first()\r\n",
        "header = sc.parallelize([linesHeader])\r\n",
        "linesWithOutHeader = lines.subtract(header)"
      ],
      "execution_count": 5,
      "outputs": []
    },
    {
      "cell_type": "code",
      "metadata": {
        "id": "GL8tPYXc3-ho"
      },
      "source": [
        "flights = linesWithOutHeader.map(lambda x: x.split(','))\r\n",
        "# YEAR,MONTH,DAY,DAY_OF_WEEK,AIRLINE,FLIGHT_NUMBER,TAIL_NUMBER,ORIGIN_AIRPORT,DESTINATION_AIRPORT,SCHEDULED_DEPARTURE,DEPARTURE_TIME,DEPARTURE_DELAY, CANCELLED\r\n",
        "mainFlightsData = flights.map(lambda p: (p[0], p[1] , p[2] , p[3], p[4] , p[5] , p[6], p[7] , p[8] , p[9], p[10], p[11], p[24] ))"
      ],
      "execution_count": 6,
      "outputs": []
    },
    {
      "cell_type": "code",
      "metadata": {
        "colab": {
          "base_uri": "https://localhost:8080/"
        },
        "id": "qHGtBx6g4DN_",
        "outputId": "858b9d4d-1567-4e04-8bf2-fa4fd9b0f716"
      },
      "source": [
        "mainFlightsData.take(10)"
      ],
      "execution_count": 7,
      "outputs": [
        {
          "output_type": "execute_result",
          "data": {
            "text/plain": [
              "[('2015',\n",
              "  '1',\n",
              "  '1',\n",
              "  '4',\n",
              "  'AA',\n",
              "  '1028',\n",
              "  'N3BFAA',\n",
              "  'DEN',\n",
              "  'ORD',\n",
              "  '0600',\n",
              "  '0601',\n",
              "  '1',\n",
              "  '0'),\n",
              " ('2015',\n",
              "  '1',\n",
              "  '1',\n",
              "  '4',\n",
              "  'WN',\n",
              "  '828',\n",
              "  'N8303R',\n",
              "  'PHX',\n",
              "  'BWI',\n",
              "  '0610',\n",
              "  '0610',\n",
              "  '0',\n",
              "  '0'),\n",
              " ('2015',\n",
              "  '1',\n",
              "  '1',\n",
              "  '4',\n",
              "  'AA',\n",
              "  '1336',\n",
              "  'N3LCAA',\n",
              "  'PHX',\n",
              "  'DFW',\n",
              "  '0610',\n",
              "  '0603',\n",
              "  '-7',\n",
              "  '0'),\n",
              " ('2015',\n",
              "  '1',\n",
              "  '1',\n",
              "  '4',\n",
              "  'NK',\n",
              "  '231',\n",
              "  'N620NK',\n",
              "  'ATL',\n",
              "  'FLL',\n",
              "  '0700',\n",
              "  '0725',\n",
              "  '25',\n",
              "  '0'),\n",
              " ('2015',\n",
              "  '1',\n",
              "  '1',\n",
              "  '4',\n",
              "  'UA',\n",
              "  '1294',\n",
              "  'N69830',\n",
              "  'IAH',\n",
              "  'MCO',\n",
              "  '0727',\n",
              "  '0727',\n",
              "  '0',\n",
              "  '0'),\n",
              " ('2015',\n",
              "  '1',\n",
              "  '1',\n",
              "  '4',\n",
              "  'US',\n",
              "  '692',\n",
              "  'N200UU',\n",
              "  'CLT',\n",
              "  'PHX',\n",
              "  '0730',\n",
              "  '0727',\n",
              "  '-3',\n",
              "  '0'),\n",
              " ('2015',\n",
              "  '1',\n",
              "  '1',\n",
              "  '4',\n",
              "  'MQ',\n",
              "  '2952',\n",
              "  'N698MQ',\n",
              "  'GRB',\n",
              "  'ORD',\n",
              "  '0745',\n",
              "  '0737',\n",
              "  '-8',\n",
              "  '0'),\n",
              " ('2015',\n",
              "  '1',\n",
              "  '1',\n",
              "  '4',\n",
              "  'DL',\n",
              "  '1122',\n",
              "  'N916DN',\n",
              "  'ATL',\n",
              "  'RSW',\n",
              "  '0811',\n",
              "  '0807',\n",
              "  '-4',\n",
              "  '0'),\n",
              " ('2015',\n",
              "  '1',\n",
              "  '1',\n",
              "  '4',\n",
              "  'WN',\n",
              "  '3486',\n",
              "  'N741SA',\n",
              "  'BWI',\n",
              "  'ABQ',\n",
              "  '0825',\n",
              "  '0824',\n",
              "  '-1',\n",
              "  '0'),\n",
              " ('2015',\n",
              "  '1',\n",
              "  '1',\n",
              "  '4',\n",
              "  'B6',\n",
              "  '1196',\n",
              "  'N760JB',\n",
              "  'FLL',\n",
              "  'PVD',\n",
              "  '0855',\n",
              "  '0907',\n",
              "  '12',\n",
              "  '0')]"
            ]
          },
          "metadata": {
            "tags": []
          },
          "execution_count": 7
        }
      ]
    },
    {
      "cell_type": "code",
      "metadata": {
        "colab": {
          "base_uri": "https://localhost:8080/"
        },
        "id": "ftAesPq56gwS",
        "outputId": "88dc2b86-117d-444d-ee43-017c31f41a31"
      },
      "source": [
        "#Q1 Get a list of  February departure delay time: (day,delay)pairs\r\n",
        "#p[1]Month, p[2]Day, p[11]DEPARTURE_DELAY\r\n",
        "FebDay_Delay = mainFlightsData.filter(lambda p: True if p[1] == \"2\" else False ).map(lambda p:(p[2],p[11]))\r\n",
        "FebDay_Delay.take(10)"
      ],
      "execution_count": 21,
      "outputs": [
        {
          "output_type": "execute_result",
          "data": {
            "text/plain": [
              "[('1', '-5'),\n",
              " ('1', '732'),\n",
              " ('1', '-7'),\n",
              " ('1', '15'),\n",
              " ('1', '-12'),\n",
              " ('1', '21'),\n",
              " ('1', ''),\n",
              " ('1', '-1'),\n",
              " ('1', '-4'),\n",
              " ('1', '-7')]"
            ]
          },
          "metadata": {
            "tags": []
          },
          "execution_count": 21
        }
      ]
    },
    {
      "cell_type": "code",
      "metadata": {
        "colab": {
          "base_uri": "https://localhost:8080/"
        },
        "id": "y7fYmIA18irD",
        "outputId": "32a86dad-e66d-488c-96a0-695503543182"
      },
      "source": [
        "#Q2 Find the date(Year,Month,Day) which had the largest departure delay\r\n",
        "#p[0]Year, p[1]Month, p[2]Day, p[11]DEPARTURE_DELAY\r\n",
        "mainFlightsData.map(lambda p: (p[11], p[0], p[1], p[2])).top(1)\r\n",
        "#The result is（2015,12,28）"
      ],
      "execution_count": 23,
      "outputs": [
        {
          "output_type": "execute_result",
          "data": {
            "text/plain": [
              "[('999', '2015', '12', '28')]"
            ]
          },
          "metadata": {
            "tags": []
          },
          "execution_count": 23
        }
      ]
    },
    {
      "cell_type": "code",
      "metadata": {
        "colab": {
          "base_uri": "https://localhost:8080/"
        },
        "id": "FxMgQrME_3s0",
        "outputId": "f3cfb5b9-4122-4810-aeef-06796296d1ca"
      },
      "source": [
        "#Q3 Which Month has the most cancellation of flights in 2015?\r\n",
        "mainFlightsData_2015 = mainFlightsData.filter(lambda p: True if p[0] == \"2015\" else False)\r\n",
        "Cancellation_2015 = mainFlightsData_2016.map(lambda p: (p[1],  1 ) if p[12] == \"1\" else (p[1],  0 )).reduceByKey(add)\r\n",
        "Cancellation_2015.take(12)"
      ],
      "execution_count": 26,
      "outputs": [
        {
          "output_type": "execute_result",
          "data": {
            "text/plain": [
              "[('1', 11982),\n",
              " ('2', 20517),\n",
              " ('9', 2075),\n",
              " ('8', 5052),\n",
              " ('10', 2454),\n",
              " ('5', 5694),\n",
              " ('6', 9120),\n",
              " ('7', 4806),\n",
              " ('4', 4520),\n",
              " ('3', 11002),\n",
              " ('11', 4599),\n",
              " ('12', 8063)]"
            ]
          },
          "metadata": {
            "tags": []
          },
          "execution_count": 26
        }
      ]
    },
    {
      "cell_type": "code",
      "metadata": {
        "colab": {
          "base_uri": "https://localhost:8080/"
        },
        "id": "fzCt2TS6FBQE",
        "outputId": "78c5315f-2c96-4c79-8347-5297b59171a8"
      },
      "source": [
        "Cancellation_2016.top(1, lambda x:x[1])\r\n",
        "#Feb has the most cancellation of flights in 2015"
      ],
      "execution_count": 27,
      "outputs": [
        {
          "output_type": "execute_result",
          "data": {
            "text/plain": [
              "[('2', 20517)]"
            ]
          },
          "metadata": {
            "tags": []
          },
          "execution_count": 27
        }
      ]
    },
    {
      "cell_type": "code",
      "metadata": {
        "id": "0mUbHk9jEiov"
      },
      "source": [
        "#Q4 Which airport has the most cancellation of flights on weekend? \r\n",
        "#\r\n",
        "weekEndFlights = flightsFromBoston.filter(lambda p: True if (int(p[3]) == 6 or int(p[3]) ==7) else False )\r\n",
        "airportWithHighestCancellation = weekEndFlights.map(lambda p: (p[7],  1 ) if p[12] == \"1\" else (p[7],  0 )).reduceByKey(add).top(1, lambda x:x[1])"
      ],
      "execution_count": 30,
      "outputs": []
    },
    {
      "cell_type": "code",
      "metadata": {
        "colab": {
          "base_uri": "https://localhost:8080/"
        },
        "id": "liUfbcoXGRbY",
        "outputId": "b73a5020-0663-43f1-e043-221c9ecbfe81"
      },
      "source": [
        "airportWithHighestCancellation"
      ],
      "execution_count": 31,
      "outputs": [
        {
          "output_type": "execute_result",
          "data": {
            "text/plain": [
              "[('BOS', 476)]"
            ]
          },
          "metadata": {
            "tags": []
          },
          "execution_count": 31
        }
      ]
    },
    {
      "cell_type": "code",
      "metadata": {
        "colab": {
          "base_uri": "https://localhost:8080/"
        },
        "id": "rBcrWQAfGSU4",
        "outputId": "b1b88e65-c013-4bc0-f64b-8b3c614085fc"
      },
      "source": [
        "#Q5 Which airline has the most flights? (from ORIGIN_AIRPORT to DESTINATION_AIRPORT)\r\n",
        "#p[7]ORIGIN_AIRPORT, p[8]DESTINATION_AIRPORT\r\n",
        "OG_DEST = mainFlightsData.map(lambda p: ((p[7],p[8]), 1)).reduceByKey(add)\r\n",
        "OG_DEST.top(1, lambda x:x[1])\r\n",
        "#From SFO to LAX has the most number of flights and the number of flights is 13744"
      ],
      "execution_count": 33,
      "outputs": [
        {
          "output_type": "execute_result",
          "data": {
            "text/plain": [
              "[(('SFO', 'LAX'), 13744)]"
            ]
          },
          "metadata": {
            "tags": []
          },
          "execution_count": 33
        }
      ]
    }
  ]
}